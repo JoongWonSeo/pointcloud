{
 "cells": [
  {
   "cell_type": "code",
   "execution_count": null,
   "metadata": {},
   "outputs": [],
   "source": [
    "import torch\n",
    "from models.pn_autoencoder import PointcloudDataset\n",
    "from models import pointnet2\n",
    "import cfg\n",
    "\n",
    "# load pointclouds\n",
    "dataset = PointcloudDataset(**cfg.get_dataset_args('input/Lift_no_robot/val'))\n",
    "\n",
    "# create model\n",
    "pn = cfg.create_vision_module()\n",
    "pn.eval()\n",
    "\n",
    "X, Y = dataset[0]\n",
    "X = X.unsqueeze(0)\n",
    "Y = Y.unsqueeze(0)\n",
    "print(X.shape)\n",
    "\n",
    "pred = pn(X)\n",
    "print(pred.shape)\n",
    "print(pred)\n",
    "\n",
    "print(pn)"
   ]
  },
  {
   "cell_type": "code",
   "execution_count": null,
   "metadata": {},
   "outputs": [],
   "source": []
  }
 ],
 "metadata": {
  "kernelspec": {
   "display_name": "robo",
   "language": "python",
   "name": "python3"
  },
  "language_info": {
   "codemirror_mode": {
    "name": "ipython",
    "version": 3
   },
   "file_extension": ".py",
   "mimetype": "text/x-python",
   "name": "python",
   "nbconvert_exporter": "python",
   "pygments_lexer": "ipython3",
   "version": "3.9.13"
  },
  "orig_nbformat": 4,
  "vscode": {
   "interpreter": {
    "hash": "666331a2fd2900aa9ef415ddbd4562284adfb460c4a651837f1ec1c2bc99c431"
   }
  }
 },
 "nbformat": 4,
 "nbformat_minor": 2
}
