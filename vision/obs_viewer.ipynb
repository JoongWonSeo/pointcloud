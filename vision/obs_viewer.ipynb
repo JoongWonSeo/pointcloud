{
 "cells": [
  {
   "cell_type": "code",
   "execution_count": null,
   "metadata": {},
   "outputs": [],
   "source": [
    "import numpy as np\n",
    "import matplotlib.pyplot as plt"
   ]
  },
  {
   "cell_type": "code",
   "execution_count": null,
   "metadata": {},
   "outputs": [],
   "source": [
    "f = np.load('input/maps.npz')"
   ]
  },
  {
   "cell_type": "code",
   "execution_count": null,
   "metadata": {},
   "outputs": [],
   "source": [
    "# load images\n",
    "depth = f['depth']\n",
    "rgb = f['rgb']\n",
    "seg = f['seg']\n",
    "\n",
    "# flip upside down\n",
    "depth = np.flip(depth, axis=0)\n",
    "seg = np.flip(seg, axis=0)\n",
    "rgb = np.flip(rgb, axis=0)\n",
    "\n",
    "# plot images\n",
    "#turn off image aliasing\n",
    "plt.rcParams['image.interpolation'] = None\n",
    "\n",
    "plt.figure(figsize=(10, 10))\n",
    "plt.subplot(2, 2, 1)\n",
    "plt.imshow(depth)\n",
    "plt.subplot(2, 2, 2)\n",
    "plt.imshow(seg)\n",
    "plt.subplot(2, 2, 3)\n",
    "plt.imshow(rgb)\n",
    "plt.subplot(2, 2, 4)\n",
    "plt.imshow(depth+seg)\n",
    "plt.show()"
   ]
  },
  {
   "cell_type": "code",
   "execution_count": null,
   "metadata": {},
   "outputs": [],
   "source": []
  }
 ],
 "metadata": {
  "kernelspec": {
   "display_name": "robo",
   "language": "python",
   "name": "python3"
  },
  "language_info": {
   "codemirror_mode": {
    "name": "ipython",
    "version": 3
   },
   "file_extension": ".py",
   "mimetype": "text/x-python",
   "name": "python",
   "nbconvert_exporter": "python",
   "pygments_lexer": "ipython3",
   "version": "3.9.13"
  },
  "orig_nbformat": 4,
  "vscode": {
   "interpreter": {
    "hash": "666331a2fd2900aa9ef415ddbd4562284adfb460c4a651837f1ec1c2bc99c431"
   }
  }
 },
 "nbformat": 4,
 "nbformat_minor": 2
}
